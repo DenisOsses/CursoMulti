{
 "cells": [
  {
   "cell_type": "markdown",
   "id": "2b2f372d",
   "metadata": {},
   "source": [
    "<!--###########################################################################################################################\n",
    "##############################################################################################################################\n",
    "#############################################################################################\n",
    "-->"
   ]
  },
  {
   "cell_type": "markdown",
   "id": "c0a87aa7",
   "metadata": {},
   "source": [
    "(Desafio)=\n",
    "# Desafíos"
   ]
  },
  {
   "cell_type": "markdown",
   "id": "7b0e22f1",
   "metadata": {},
   "source": [
    "## Desafío 1\n",
    "\n",
    "```{admonition} Problemas\n",
    "**1**: Sea $f:D\\subseteq\\mathbb{R}^2\\to\\mathbb{R}$ la función definida por \n",
    "\n",
    "$$\n",
    "f(x,y)=\\ln\\left(\\frac{1+\\sqrt{x^2+y^2}}{1-\\sqrt{x^2+y^2}}\\right)\n",
    "$$ \n",
    "\n",
    "Determine $dom(f)$ y el conjunto de curvas de nivel de $f$. Con la ayuda de un computador, grafique $f$. ¿Cuál es el $rec(f)$?\n",
    "\n",
    "**2**: Tradicionalmente, la superficie de la Tierra se ha modelado como esfera, pero el Sistema Geodésico Mundial de 1984 (WGS-84) emplea un elipsoide como modelo más preciso. Sitúe el centro de nuestro planeta en el origen y el polo norte en el eje $Z$ positivo. La distancia del centro a los polos es $6356,523~km$ y la distancia a un punto en el Ecuador es $6378,137~km$.\n",
    "\n",
    "a. Encuentre una ecuación de la superficie terrestre como la utilizada por el WGS-84.\n",
    "\n",
    "b. Las curvas de igual latitud son trazas en los planos $z=k$ (o intersecciones con esos planos). ¿Cuál es la forma de estas curvas?\n",
    "\n",
    "c. Los meridianos (curvas de igual longitud) son trazas en planos de la forma $y=mx$ (o intersecciones con esos planos). ¿Cuál es la forma de estos meridianos?\n",
    "\n",
    "**3**: Considera la familia de superficies $S_a$ en $\\mathbb{R}^3$, para el parámetro $a\\in\\mathbb{R}$, dada por \n",
    "\n",
    "$$\n",
    "S_a:x^2+y^2-az^2=a+1\n",
    "$$\n",
    "\n",
    "a. Determina los valores del parámetro de modo que $S_a$ represente una superficie cuádrica real.\n",
    "\n",
    "b. Identifica adecuadamente la superficie cuádrica correspondiente para los distintos valores de $a$.\n",
    "\n",
    "**Fecha de Entrega**: Miércoles 19 de marzo, hasta las 18:00 hrs., en el buzón de tareas respectivo en Webc.\n",
    "\n",
    "```"
   ]
  }
 ],
 "metadata": {
  "jupytext": {
   "formats": "md:myst",
   "text_representation": {
    "extension": ".md",
    "format_name": "myst",
    "format_version": 0.13,
    "jupytext_version": "1.11.5"
   }
  },
  "kernelspec": {
   "display_name": "Python 3",
   "language": "python",
   "name": "python3"
  },
  "language_info": {
   "codemirror_mode": {
    "name": "ipython",
    "version": 3
   },
   "file_extension": ".py",
   "mimetype": "text/x-python",
   "name": "python",
   "nbconvert_exporter": "python",
   "pygments_lexer": "ipython3",
   "version": "3.12.7"
  },
  "source_map": [
   13,
   20,
   25
  ]
 },
 "nbformat": 4,
 "nbformat_minor": 5
}