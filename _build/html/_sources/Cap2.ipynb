{
 "cells": [
  {
   "cell_type": "markdown",
   "id": "32978d35",
   "metadata": {},
   "source": [
    "<!--###########################################################################################################################\n",
    "##############################################################################################################################\n",
    "#############################################################################################\n",
    "-->"
   ]
  },
  {
   "cell_type": "markdown",
   "id": "691b986b",
   "metadata": {},
   "source": [
    "(U2)=\n",
    "# Unidad 2"
   ]
  },
  {
   "cell_type": "markdown",
   "id": "8ea123e0",
   "metadata": {},
   "source": [
    "## Límites\n",
    "\n",
    "## Continuidad"
   ]
  }
 ],
 "metadata": {
  "jupytext": {
   "formats": "md:myst",
   "text_representation": {
    "extension": ".md",
    "format_name": "myst",
    "format_version": 0.13,
    "jupytext_version": "1.11.5"
   }
  },
  "kernelspec": {
   "display_name": "Python 3",
   "language": "python",
   "name": "python3"
  },
  "language_info": {
   "codemirror_mode": {
    "name": "ipython",
    "version": 3
   },
   "file_extension": ".py",
   "mimetype": "text/x-python",
   "name": "python",
   "nbconvert_exporter": "python",
   "pygments_lexer": "ipython3",
   "version": "3.12.7"
  },
  "source_map": [
   13,
   20,
   25
  ]
 },
 "nbformat": 4,
 "nbformat_minor": 5
}