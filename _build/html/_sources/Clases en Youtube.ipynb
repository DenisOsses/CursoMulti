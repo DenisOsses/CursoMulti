{
 "cells": [
  {
   "cell_type": "markdown",
   "id": "0f2c9166",
   "metadata": {},
   "source": [
    "<!--###########################################################################################################################\n",
    "##############################################################################################################################\n",
    "#############################################################################################\n",
    "-->"
   ]
  },
  {
   "cell_type": "markdown",
   "id": "e5adff5c",
   "metadata": {},
   "source": [
    "(ClasesYoutube)=\n",
    "# Clases en Youtube"
   ]
  },
  {
   "cell_type": "markdown",
   "id": "fcdc2da9",
   "metadata": {},
   "source": [
    "Les dejo disponible el enlace [**Cálculo Multivariables en Youtube**](https://youtube.com/playlist?list=PLtLaQ41k0lfQ1p8SLzXd7QzKYdSU2BIj0&si=Qdq6Q47iD8XO6X71), donde está disponible una lista de reproducción con las clases del curso que dicté el primer semestre del año 2021 y que podrían ser de utilidad. El enfoque es similar al curso de este semestre."
   ]
  }
 ],
 "metadata": {
  "jupytext": {
   "formats": "md:myst",
   "text_representation": {
    "extension": ".md",
    "format_name": "myst",
    "format_version": 0.13,
    "jupytext_version": "1.11.5"
   }
  },
  "kernelspec": {
   "display_name": "Python 3",
   "language": "python",
   "name": "python3"
  },
  "language_info": {
   "codemirror_mode": {
    "name": "ipython",
    "version": 3
   },
   "file_extension": ".py",
   "mimetype": "text/x-python",
   "name": "python",
   "nbconvert_exporter": "python",
   "pygments_lexer": "ipython3",
   "version": "3.12.7"
  },
  "source_map": [
   13,
   20,
   25
  ]
 },
 "nbformat": 4,
 "nbformat_minor": 5
}